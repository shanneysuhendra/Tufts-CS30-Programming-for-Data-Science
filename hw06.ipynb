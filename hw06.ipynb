{
 "cells": [
  {
   "cell_type": "code",
   "execution_count": 1,
   "metadata": {
    "deletable": false,
    "editable": false
   },
   "outputs": [],
   "source": [
    "# Initialize Otter\n",
    "import otter\n",
    "grader = otter.Notebook(\"hw06.ipynb\")"
   ]
  },
  {
   "cell_type": "markdown",
   "metadata": {},
   "source": [
    "# Basic supervised learning\n",
    "\"Logistic regression\" is the simplest form of \"supervised learning\". We have a population of items, some of which are labeled but most of which are not labeled. The goal is to label the unlabeled items, based upon the items we have already labeled. In the case of basic logistic regression it is assumed that the categorizations to be learned are linear; i.e., they're characterized as hyperplanes in n-d space. Let's explore the effects of logistic regression by creating some examples and studying how well they work. \n",
    "\n",
    "A general note on automatic grading: In this assignment, passing the automatic tests does _not_ mean your answer is correct. _The automatic grader only checks format._ Your answer is also human-graded for content.  "
   ]
  },
  {
   "cell_type": "code",
   "execution_count": 2,
   "metadata": {},
   "outputs": [],
   "source": [
    "# Run this first to load all libraries. \n",
    "import numpy as np\n",
    "import pandas as pd\n",
    "import matplotlib.pyplot as mpl\n",
    "from sklearn.linear_model import LogisticRegression"
   ]
  },
  {
   "cell_type": "markdown",
   "metadata": {},
   "source": [
    "<!-- BEGIN QUESTION -->\n",
    "\n",
    "*Question 1:* Create a uniformly distributed 3-d space of 1000 points, named `df`, with columns `X`, `Y`, `Z` with values between 0 and 100 in floating point. Categorize the points according to the linear inequality `X + 2*Y + 3*Z < 200`, and create a `Categorical` column 'label' that has one of two values: \"inside\" or \"outside\", where \"inside\" columns obey the inequality. "
   ]
  },
  {
   "cell_type": "code",
   "execution_count": 3,
   "metadata": {
    "tags": []
   },
   "outputs": [],
   "source": [
    "# Define a variable df satisfying the above conditions. \n",
    "x = np.random.uniform(0.0, 100, 1000)\n",
    "y = np.random.uniform(0.0, 100, 1000)\n",
    "z = np.random.uniform(0.0, 100, 1000)\n",
    "\n",
    "data = []\n",
    "for i in range(1000):\n",
    "    num = x[i] + 2*y[i] + 3*z[i]\n",
    "    if num < 200:\n",
    "        data.append([x[i], y[i], z[i], 'inside'])\n",
    "    else:\n",
    "        data.append([x[i], y[i], z[i], 'outside'])\n",
    "df = pd.DataFrame(data, columns = ['X', 'Y', 'Z', 'label'])\n",
    "df['label'] = df['label'].astype('category')"
   ]
  },
  {
   "cell_type": "code",
   "execution_count": 4,
   "metadata": {
    "deletable": false,
    "editable": false
   },
   "outputs": [
    {
     "data": {
      "text/html": [
       "<p><strong><pre style='display: inline;'>q1</pre></strong> passed!</p>"
      ],
      "text/plain": [
       "q1 results: All test cases passed!"
      ]
     },
     "execution_count": 4,
     "metadata": {},
     "output_type": "execute_result"
    }
   ],
   "source": [
    "grader.check(\"q1\")"
   ]
  },
  {
   "cell_type": "markdown",
   "metadata": {},
   "source": [
    "<!-- END QUESTION -->\n",
    "\n",
    "<!-- BEGIN QUESTION -->\n",
    "\n",
    "*Question 2:* Simulate fuzzy categories by adding a normal error function with mean 0 and standard deviation 50 to each of `X`, `Y`, and `Z` in `df`, to create a new DataFrame `df2`.  "
   ]
  },
  {
   "cell_type": "code",
   "execution_count": 5,
   "metadata": {
    "tags": []
   },
   "outputs": [],
   "source": [
    "def add_noise(df, mean, sd):\n",
    "    new_df = df.copy().drop(['label'], axis = 1)\n",
    "    new_df += np.random.normal(mean, sd, size = (1000,3))\n",
    "    new_df['label'] = df['label']\n",
    "    return new_df\n",
    "df2 = add_noise(df, 0, 50)"
   ]
  },
  {
   "cell_type": "code",
   "execution_count": 6,
   "metadata": {
    "deletable": false,
    "editable": false
   },
   "outputs": [
    {
     "data": {
      "text/html": [
       "<p><strong><pre style='display: inline;'>q2</pre></strong> passed!</p>"
      ],
      "text/plain": [
       "q2 results: All test cases passed!"
      ]
     },
     "execution_count": 6,
     "metadata": {},
     "output_type": "execute_result"
    }
   ],
   "source": [
    "grader.check(\"q2\")"
   ]
  },
  {
   "cell_type": "markdown",
   "metadata": {},
   "source": [
    "<!-- END QUESTION -->\n",
    "\n",
    "<!-- BEGIN QUESTION -->\n",
    "\n",
    "*Question 3:* Do logistic regression on df2, to create a predictor for `label` from `X`, `Y`, `Z`. Put the output into `regr`. Hint: you will need to format columns of the `DataFrame` into an `ndarray` appropriate for regression. "
   ]
  },
  {
   "cell_type": "code",
   "execution_count": 7,
   "metadata": {
    "tags": []
   },
   "outputs": [],
   "source": [
    "def run_lr(df2): \n",
    "    regr = LogisticRegression(solver='lbfgs')  # avoid an annoying and meaningless warning\n",
    "    x_train = df2.drop(['label'], axis = 1)\n",
    "    y_train = df2['label']\n",
    "    y_train = np.ravel(y_train)\n",
    "    regr.fit(x_train, y_train)\n",
    "    return regr"
   ]
  },
  {
   "cell_type": "code",
   "execution_count": 8,
   "metadata": {
    "deletable": false,
    "editable": false
   },
   "outputs": [
    {
     "data": {
      "text/html": [
       "<p><strong><pre style='display: inline;'>q3</pre></strong> passed!</p>"
      ],
      "text/plain": [
       "q3 results: All test cases passed!"
      ]
     },
     "execution_count": 8,
     "metadata": {},
     "output_type": "execute_result"
    }
   ],
   "source": [
    "grader.check(\"q3\")"
   ]
  },
  {
   "cell_type": "markdown",
   "metadata": {},
   "source": [
    "<!-- END QUESTION -->\n",
    "\n",
    "<!-- BEGIN QUESTION -->\n",
    "\n",
    "*Question 4:* Perform a manual cross-validation on this fit. \n",
    "1. Create a new DataFrame df_train that contains the first 750 rows of df2.\n",
    "2. Create a new DataGrame df_test that contains the last 250 rows of df2. \n",
    "2. Fit a new logistic regression regr2 to df_train. \n",
    "3. Test this fit against the last 250 rows of df_test. \n",
    "4. Compute FP, FN, TP, TN, precision, recall, and F1 as defined in lecture. "
   ]
  },
  {
   "cell_type": "code",
   "execution_count": 9,
   "metadata": {
    "tags": []
   },
   "outputs": [
    {
     "name": "stdout",
     "output_type": "stream",
     "text": [
      "TP=7, TN=187\n",
      "FP=13, FN=43\n",
      "precision: 0.35\n",
      "recall: 0.14\n",
      "F1: 0.2\n"
     ]
    }
   ],
   "source": [
    "import numpy as np\n",
    "import pandas as pd\n",
    "from sklearn.linear_model import LogisticRegression\n",
    "from sklearn.metrics import confusion_matrix\n",
    "\n",
    "def run_xv(df):\n",
    "    regr2 = run_lr(df.iloc[:750])\n",
    "    df_test = df.iloc[750:]\n",
    "    x_test = df_test.drop(['label'], axis = 1)\n",
    "    y_test = df_test.drop(['X', 'Y', 'Z'], axis = 1)\n",
    "    y_test = np.ravel(y_test)\n",
    "    y_pred = regr2.predict(x_test)\n",
    "    \n",
    "    TP = (sum((y_pred == 'inside') & (y_test == 'inside')))\n",
    "    TN = (sum((y_pred == 'outside') & (y_test == 'outside')))\n",
    "    FP = (sum((y_pred == 'inside') & (y_test == 'outside')))\n",
    "    FN = (sum((y_pred == 'outside') & (y_test == 'inside')))\n",
    "    \n",
    "    if(TP + FP == 0):\n",
    "        precision = 0\n",
    "    else:\n",
    "        precision = TP / (TP + FP)\n",
    "    if(TP + FN == 0):\n",
    "        recall = 0\n",
    "    else:\n",
    "        recall = TP / (TP + FN)\n",
    "    if(precision == 0 or recall == 0):\n",
    "        F1 = 0\n",
    "    else:\n",
    "        F1 = 2 / (1/precision + 1/recall)\n",
    "    return (TP, TN, FP, FN, precision, recall, F1)\n",
    "\n",
    "# Run this to expose your results to me: \n",
    "results = run_xv(df2)\n",
    "TP = results[0]\n",
    "TN = results[1]\n",
    "FP = results[2]\n",
    "FN = results[3]\n",
    "precision = results[4]\n",
    "recall = results[5]\n",
    "F1 = results[6]\n",
    "print(\"TP={}, TN={}\".format(TP, TN))\n",
    "print(\"FP={}, FN={}\".format(FP, FN))\n",
    "print(\"precision: {}\".format(precision))\n",
    "print(\"recall: {}\".format(recall))\n",
    "print(\"F1: {}\".format(F1))"
   ]
  },
  {
   "cell_type": "code",
   "execution_count": 10,
   "metadata": {
    "deletable": false,
    "editable": false
   },
   "outputs": [
    {
     "data": {
      "text/html": [
       "<p><strong><pre style='display: inline;'>q4</pre></strong> passed!</p>"
      ],
      "text/plain": [
       "q4 results: All test cases passed!"
      ]
     },
     "execution_count": 10,
     "metadata": {},
     "output_type": "execute_result"
    }
   ],
   "source": [
    "grader.check(\"q4\")"
   ]
  },
  {
   "cell_type": "markdown",
   "metadata": {},
   "source": [
    "<!-- END QUESTION -->\n",
    "\n",
    "<!-- BEGIN QUESTION -->\n",
    "\n",
    "*Question 5:* Plot the relationship between the standard deviation of the noise in `df2` and the F1 score of the result. Show your result as a plot where `X` is the noise standard deviation and `Y` is the F1 score. \n",
    "\n",
    "Hints: try plotting stds between 0 and 100. Note that if the std is high enough, _the precision will be undefined!_ "
   ]
  },
  {
   "cell_type": "code",
   "execution_count": 11,
   "metadata": {
    "tags": []
   },
   "outputs": [
    {
     "data": {
      "text/plain": [
       "Ellipsis"
      ]
     },
     "execution_count": 11,
     "metadata": {},
     "output_type": "execute_result"
    },
    {
     "data": {
      "image/png": "[encoded data removed]",
      "text/plain": [
       "<Figure size 432x288 with 1 Axes>"
      ]
     },
     "metadata": {
      "needs_background": "light"
     },
     "output_type": "display_data"
    }
   ],
   "source": [
    "import numpy as np\n",
    "import pandas as pd\n",
    "import matplotlib.pyplot as mpl\n",
    "from sklearn.linear_model import LogisticRegression\n",
    "\n",
    "f = list()\n",
    "for i in range(100):\n",
    "    new_df = add_noise(df, 0, i)\n",
    "    f.append(run_xv(new_df)[6])\n",
    "    \n",
    "mpl.xlabel('noise standard deviation')\n",
    "mpl.ylabel('F1 score')\n",
    "mpl.plot(np.arange(0,100), f, 'r-')\n",
    "...\n"
   ]
  },
  {
   "cell_type": "markdown",
   "metadata": {},
   "source": [
    "<!-- END QUESTION -->\n",
    "\n"
   ]
  },
  {
   "cell_type": "markdown",
   "metadata": {
    "deletable": false,
    "editable": false
   },
   "source": [
    "---\n",
    "\n",
    "To double-check your work, the cell below will rerun all of the autograder tests."
   ]
  },
  {
   "cell_type": "code",
   "execution_count": 12,
   "metadata": {
    "deletable": false,
    "editable": false
   },
   "outputs": [
    {
     "data": {
      "text/plain": [
       "q1 results: All test cases passed!\n",
       "\n",
       "q2 results: All test cases passed!\n",
       "\n",
       "q3 results: All test cases passed!\n",
       "\n",
       "q4 results: All test cases passed!"
      ]
     },
     "execution_count": 12,
     "metadata": {},
     "output_type": "execute_result"
    }
   ],
   "source": [
    "grader.check_all()"
   ]
  },
  {
   "cell_type": "markdown",
   "metadata": {
    "deletable": false,
    "editable": false
   },
   "source": [
    "## Submission\n",
    "\n",
    "Make sure you have run all cells in your notebook in order before running the cell below, so that all images/graphs appear in the output. The cell below will generate a zip file for you to submit. **Please save before exporting!**\n",
    "\n",
    "You are not done until you upload the exported zipfile to GradeScope."
   ]
  },
  {
   "cell_type": "code",
   "execution_count": 13,
   "metadata": {
    "deletable": false,
    "editable": false
   },
   "outputs": [
    {
     "data": {
      "text/html": [
       "\n",
       "            <p>Your submission has been exported. Click <a href=\"hw06_2021_11_01T00_54_43_927409.zip\" download=\"hw06_2021_11_01T00_54_43_927409.zip\" target=\"_blank\">here</a>\n",
       "            to download the zip file.</p>\n",
       "            "
      ],
      "text/plain": [
       "<IPython.core.display.HTML object>"
      ]
     },
     "metadata": {},
     "output_type": "display_data"
    }
   ],
   "source": [
    "# Save your notebook first, then run this cell to export your submission.\n",
    "grader.export(pdf=False)"
   ]
  },
  {
   "cell_type": "markdown",
   "metadata": {},
   "source": [
    " "
   ]
  }
 ],
 "metadata": {
  "kernelspec": {
   "display_name": "Python 3",
   "language": "python",
   "name": "python3"
  },
  "language_info": {
   "codemirror_mode": {
    "name": "ipython",
    "version": 3
   },
   "file_extension": ".py",
   "mimetype": "text/x-python",
   "name": "python",
   "nbconvert_exporter": "python",
   "pygments_lexer": "ipython3",
   "version": "3.8.8"
  },
  "otter": {
   "tests": {
    "q1": {
     "name": "q1",
     "points": 1,
     "suites": [
      {
       "cases": [
        {
         "code": ">>> assert df.shape[0] == 1000\n",
         "hidden": false,
         "locked": false
        },
        {
         "code": ">>> assert df.shape[1] == 4\n",
         "hidden": false,
         "locked": false
        },
        {
         "code": ">>> assert (df.columns == ['X', 'Y', 'Z', 'label']).all()\n",
         "hidden": false,
         "locked": false
        },
        {
         "code": ">>> assert set(df['label'].dtype.categories.values) == set(['inside', 'outside'])\n",
         "hidden": false,
         "locked": false
        }
       ],
       "scored": true,
       "setup": "",
       "teardown": "",
       "type": "doctest"
      }
     ]
    },
    "q2": {
     "name": "q2",
     "points": 1,
     "suites": [
      {
       "cases": [
        {
         "code": ">>> assert df.shape[0] == 1000\n",
         "hidden": false,
         "locked": false
        },
        {
         "code": ">>> assert df.shape[1] == 4\n",
         "hidden": false,
         "locked": false
        },
        {
         "code": ">>> assert (df.columns == ['X', 'Y', 'Z', 'label']).all()\n",
         "hidden": false,
         "locked": false
        },
        {
         "code": ">>> assert set(df['label'].dtype.categories.values) == set(['inside', 'outside'])\n",
         "hidden": false,
         "locked": false
        }
       ],
       "scored": true,
       "setup": "",
       "teardown": "",
       "type": "doctest"
      }
     ]
    },
    "q3": {
     "name": "q3",
     "points": 1,
     "suites": [
      {
       "cases": [
        {
         "code": ">>> regr = run_lr(df2)\n>>> predicted = regr.predict(df2.loc[:, ['X', 'Y', 'Z']].values)\n>>> df3 = df2.copy()\n>>> df3['predicted'] = predicted\n>>> assert df3.loc[df3['predicted'] == df3['label'], 'label'].count() > 500\n",
         "hidden": false,
         "locked": false
        }
       ],
       "scored": true,
       "setup": "",
       "teardown": "",
       "type": "doctest"
      }
     ]
    },
    "q4": {
     "name": "q4",
     "points": 1,
     "suites": [
      {
       "cases": [
        {
         "code": ">>> results = run_xv(df2)\n>>> assert results[0] >= 0 and results[0] <= 250\n>>> assert results[1] >= 0 and results[1] <= 250\n>>> assert results[2] >= 0 and results[2] <= 250\n>>> assert results[3] >= 0 and results[3] <= 250\n>>> assert results[4] >= 0 and results[4] <= 1\n>>> assert results[5] >= 0 and results[5] <= 1\n>>> assert results[6] >= 0 and results[6] <= 1\n",
         "hidden": false,
         "locked": false
        }
       ],
       "scored": true,
       "setup": "",
       "teardown": "",
       "type": "doctest"
      }
     ]
    }
   }
  }
 },
 "nbformat": 4,
 "nbformat_minor": 2
}
