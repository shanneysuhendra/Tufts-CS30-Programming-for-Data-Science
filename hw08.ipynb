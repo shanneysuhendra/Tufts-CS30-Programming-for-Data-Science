{
 "cells": [
  {
   "cell_type": "code",
   "execution_count": 1,
   "metadata": {
    "deletable": false,
    "editable": false
   },
   "outputs": [],
   "source": [
    "# Initialize Otter\n",
    "import otter\n",
    "grader = otter.Notebook(\"hw08.ipynb\")"
   ]
  },
  {
   "cell_type": "markdown",
   "metadata": {},
   "source": [
    "# Dimensionality\n",
    "\n",
    "In class we have touched upon various attributes of \"the curse of dimensionality.\" Let's play with a dataset with a higher dimensionality and see what we can learn about its true dimension.  \n",
    "\n",
    "The dataset in question is the OpenML dataset `solar-flares`. We can load this from the https://OpenML.org data repository for machine learning. This is a dataset that attempts to relate the kinds of properties of the Sun that will predict the expected number of flares in a 24-hour period. You can read more about it at https://www.openml.org/d/40686 . Note in particular that only the first 10 columns are data; columns 11-13 are predictions. \n",
    "\n",
    "Let's determine a few things about the dimensionality of this data and whether we can reduce dimensionality while retaining classification accuracy. \n",
    "\n",
    "Full disclosure: I am an amateur solar observer with an advanced home solar telescope that allows viewing of solar flares and prominences on any clear day. It is called a \"hydrogen Alpha\" telescope. "
   ]
  },
  {
   "cell_type": "code",
   "execution_count": 2,
   "metadata": {},
   "outputs": [],
   "source": [
    "# Run this first to load all libraries. \n",
    "import numpy as np\n",
    "import pandas as pd\n",
    "import matplotlib.pyplot as plt\n",
    "from sklearn.datasets import fetch_openml\n",
    "solar = fetch_openml(name='solar-flare', version=3)"
   ]
  },
  {
   "cell_type": "code",
   "execution_count": 3,
   "metadata": {},
   "outputs": [
    {
     "data": {
      "text/html": [
       "<div>\n",
       "<style scoped>\n",
       "    .dataframe tbody tr th:only-of-type {\n",
       "        vertical-align: middle;\n",
       "    }\n",
       "\n",
       "    .dataframe tbody tr th {\n",
       "        vertical-align: top;\n",
       "    }\n",
       "\n",
       "    .dataframe thead th {\n",
       "        text-align: right;\n",
       "    }\n",
       "</style>\n",
       "<table border=\"1\" class=\"dataframe\">\n",
       "  <thead>\n",
       "    <tr style=\"text-align: right;\">\n",
       "      <th></th>\n",
       "      <th>largest_spot_size</th>\n",
       "      <th>spot_distribution</th>\n",
       "      <th>Activity</th>\n",
       "      <th>Evolution</th>\n",
       "      <th>Previous_24_hour_flare_activity_code</th>\n",
       "      <th>Historically-complex</th>\n",
       "      <th>Did_region_become_historically_complex</th>\n",
       "      <th>Area</th>\n",
       "      <th>Area_of_the_largest_spot</th>\n",
       "      <th>C-class_flares_production_by_this_region</th>\n",
       "      <th>M-class_flares_production_by_this_region</th>\n",
       "      <th>X-class_flares_production_by_this_region</th>\n",
       "    </tr>\n",
       "  </thead>\n",
       "  <tbody>\n",
       "    <tr>\n",
       "      <th>0</th>\n",
       "      <td>4</td>\n",
       "      <td>2</td>\n",
       "      <td>1</td>\n",
       "      <td>2</td>\n",
       "      <td>1</td>\n",
       "      <td>1</td>\n",
       "      <td>2</td>\n",
       "      <td>1</td>\n",
       "      <td>2</td>\n",
       "      <td>0</td>\n",
       "      <td>0</td>\n",
       "      <td>0</td>\n",
       "    </tr>\n",
       "    <tr>\n",
       "      <th>1</th>\n",
       "      <td>4</td>\n",
       "      <td>2</td>\n",
       "      <td>1</td>\n",
       "      <td>3</td>\n",
       "      <td>1</td>\n",
       "      <td>1</td>\n",
       "      <td>2</td>\n",
       "      <td>1</td>\n",
       "      <td>2</td>\n",
       "      <td>0</td>\n",
       "      <td>0</td>\n",
       "      <td>0</td>\n",
       "    </tr>\n",
       "    <tr>\n",
       "      <th>2</th>\n",
       "      <td>4</td>\n",
       "      <td>2</td>\n",
       "      <td>1</td>\n",
       "      <td>3</td>\n",
       "      <td>1</td>\n",
       "      <td>1</td>\n",
       "      <td>2</td>\n",
       "      <td>1</td>\n",
       "      <td>1</td>\n",
       "      <td>0</td>\n",
       "      <td>0</td>\n",
       "      <td>0</td>\n",
       "    </tr>\n",
       "    <tr>\n",
       "      <th>3</th>\n",
       "      <td>4</td>\n",
       "      <td>2</td>\n",
       "      <td>1</td>\n",
       "      <td>3</td>\n",
       "      <td>1</td>\n",
       "      <td>1</td>\n",
       "      <td>2</td>\n",
       "      <td>1</td>\n",
       "      <td>2</td>\n",
       "      <td>0</td>\n",
       "      <td>0</td>\n",
       "      <td>0</td>\n",
       "    </tr>\n",
       "    <tr>\n",
       "      <th>4</th>\n",
       "      <td>0</td>\n",
       "      <td>2</td>\n",
       "      <td>1</td>\n",
       "      <td>3</td>\n",
       "      <td>1</td>\n",
       "      <td>1</td>\n",
       "      <td>2</td>\n",
       "      <td>1</td>\n",
       "      <td>2</td>\n",
       "      <td>0</td>\n",
       "      <td>0</td>\n",
       "      <td>0</td>\n",
       "    </tr>\n",
       "    <tr>\n",
       "      <th>...</th>\n",
       "      <td>...</td>\n",
       "      <td>...</td>\n",
       "      <td>...</td>\n",
       "      <td>...</td>\n",
       "      <td>...</td>\n",
       "      <td>...</td>\n",
       "      <td>...</td>\n",
       "      <td>...</td>\n",
       "      <td>...</td>\n",
       "      <td>...</td>\n",
       "      <td>...</td>\n",
       "      <td>...</td>\n",
       "    </tr>\n",
       "    <tr>\n",
       "      <th>310</th>\n",
       "      <td>3</td>\n",
       "      <td>2</td>\n",
       "      <td>1</td>\n",
       "      <td>2</td>\n",
       "      <td>1</td>\n",
       "      <td>2</td>\n",
       "      <td>2</td>\n",
       "      <td>1</td>\n",
       "      <td>2</td>\n",
       "      <td>0</td>\n",
       "      <td>0</td>\n",
       "      <td>0</td>\n",
       "    </tr>\n",
       "    <tr>\n",
       "      <th>311</th>\n",
       "      <td>3</td>\n",
       "      <td>2</td>\n",
       "      <td>1</td>\n",
       "      <td>3</td>\n",
       "      <td>1</td>\n",
       "      <td>1</td>\n",
       "      <td>2</td>\n",
       "      <td>1</td>\n",
       "      <td>2</td>\n",
       "      <td>0</td>\n",
       "      <td>0</td>\n",
       "      <td>0</td>\n",
       "    </tr>\n",
       "    <tr>\n",
       "      <th>312</th>\n",
       "      <td>0</td>\n",
       "      <td>2</td>\n",
       "      <td>1</td>\n",
       "      <td>3</td>\n",
       "      <td>1</td>\n",
       "      <td>1</td>\n",
       "      <td>2</td>\n",
       "      <td>1</td>\n",
       "      <td>2</td>\n",
       "      <td>0</td>\n",
       "      <td>0</td>\n",
       "      <td>0</td>\n",
       "    </tr>\n",
       "    <tr>\n",
       "      <th>313</th>\n",
       "      <td>3</td>\n",
       "      <td>2</td>\n",
       "      <td>1</td>\n",
       "      <td>3</td>\n",
       "      <td>1</td>\n",
       "      <td>1</td>\n",
       "      <td>2</td>\n",
       "      <td>1</td>\n",
       "      <td>1</td>\n",
       "      <td>0</td>\n",
       "      <td>0</td>\n",
       "      <td>0</td>\n",
       "    </tr>\n",
       "    <tr>\n",
       "      <th>314</th>\n",
       "      <td>2</td>\n",
       "      <td>0</td>\n",
       "      <td>1</td>\n",
       "      <td>3</td>\n",
       "      <td>1</td>\n",
       "      <td>1</td>\n",
       "      <td>2</td>\n",
       "      <td>2</td>\n",
       "      <td>2</td>\n",
       "      <td>0</td>\n",
       "      <td>2</td>\n",
       "      <td>0</td>\n",
       "    </tr>\n",
       "  </tbody>\n",
       "</table>\n",
       "<p>315 rows × 12 columns</p>\n",
       "</div>"
      ],
      "text/plain": [
       "    largest_spot_size spot_distribution Activity Evolution  \\\n",
       "0                   4                 2        1         2   \n",
       "1                   4                 2        1         3   \n",
       "2                   4                 2        1         3   \n",
       "3                   4                 2        1         3   \n",
       "4                   0                 2        1         3   \n",
       "..                ...               ...      ...       ...   \n",
       "310                 3                 2        1         2   \n",
       "311                 3                 2        1         3   \n",
       "312                 0                 2        1         3   \n",
       "313                 3                 2        1         3   \n",
       "314                 2                 0        1         3   \n",
       "\n",
       "    Previous_24_hour_flare_activity_code Historically-complex  \\\n",
       "0                                      1                    1   \n",
       "1                                      1                    1   \n",
       "2                                      1                    1   \n",
       "3                                      1                    1   \n",
       "4                                      1                    1   \n",
       "..                                   ...                  ...   \n",
       "310                                    1                    2   \n",
       "311                                    1                    1   \n",
       "312                                    1                    1   \n",
       "313                                    1                    1   \n",
       "314                                    1                    1   \n",
       "\n",
       "    Did_region_become_historically_complex Area Area_of_the_largest_spot  \\\n",
       "0                                        2    1                        2   \n",
       "1                                        2    1                        2   \n",
       "2                                        2    1                        1   \n",
       "3                                        2    1                        2   \n",
       "4                                        2    1                        2   \n",
       "..                                     ...  ...                      ...   \n",
       "310                                      2    1                        2   \n",
       "311                                      2    1                        2   \n",
       "312                                      2    1                        2   \n",
       "313                                      2    1                        1   \n",
       "314                                      2    2                        2   \n",
       "\n",
       "    C-class_flares_production_by_this_region  \\\n",
       "0                                          0   \n",
       "1                                          0   \n",
       "2                                          0   \n",
       "3                                          0   \n",
       "4                                          0   \n",
       "..                                       ...   \n",
       "310                                        0   \n",
       "311                                        0   \n",
       "312                                        0   \n",
       "313                                        0   \n",
       "314                                        0   \n",
       "\n",
       "    M-class_flares_production_by_this_region  \\\n",
       "0                                          0   \n",
       "1                                          0   \n",
       "2                                          0   \n",
       "3                                          0   \n",
       "4                                          0   \n",
       "..                                       ...   \n",
       "310                                        0   \n",
       "311                                        0   \n",
       "312                                        0   \n",
       "313                                        0   \n",
       "314                                        2   \n",
       "\n",
       "    X-class_flares_production_by_this_region  \n",
       "0                                          0  \n",
       "1                                          0  \n",
       "2                                          0  \n",
       "3                                          0  \n",
       "4                                          0  \n",
       "..                                       ...  \n",
       "310                                        0  \n",
       "311                                        0  \n",
       "312                                        0  \n",
       "313                                        0  \n",
       "314                                        0  \n",
       "\n",
       "[315 rows x 12 columns]"
      ]
     },
     "execution_count": 3,
     "metadata": {},
     "output_type": "execute_result"
    }
   ],
   "source": [
    "solar.data"
   ]
  },
  {
   "cell_type": "code",
   "execution_count": 4,
   "metadata": {},
   "outputs": [
    {
     "data": {
      "text/plain": [
       "0      1\n",
       "1      2\n",
       "2      1\n",
       "3      2\n",
       "4      2\n",
       "      ..\n",
       "310    1\n",
       "311    2\n",
       "312    3\n",
       "313    1\n",
       "314    3\n",
       "Name: class, Length: 315, dtype: category\n",
       "Categories (5, object): ['0', '1', '2', '3', '5']"
      ]
     },
     "execution_count": 4,
     "metadata": {},
     "output_type": "execute_result"
    }
   ],
   "source": [
    "solar.target"
   ]
  },
  {
   "cell_type": "markdown",
   "metadata": {},
   "source": [
    "<!-- BEGIN QUESTION -->\n",
    "\n",
    "*Question 1:* Make the best possible predictor of the target value based upon all 13 columns of the original dataset. What is the accuracy of this predictor? Hint: You are free to use any method we have used so far, or to branch out and use other methods. Create a pipeline and use some form of hyperparameter search to tune your solution optimally.  For full credit, exhibit all the tests you do, in order. These will inform other tests. "
   ]
  },
  {
   "cell_type": "code",
   "execution_count": 5,
   "metadata": {
    "tags": []
   },
   "outputs": [
    {
     "name": "stdout",
     "output_type": "stream",
     "text": [
      "{'classify__C': 6.707379274339708, 'classify__gamma': 0.04248600663244733}\n",
      "0.6888888888888889\n"
     ]
    }
   ],
   "source": [
    "# Train and test your solution here. Store the achieved accuracy in a variable \"accuracy\".\n",
    "from sklearn.preprocessing import StandardScaler\n",
    "from sklearn.svm import SVC\n",
    "from sklearn.pipeline import Pipeline\n",
    "from sklearn.model_selection import GridSearchCV\n",
    "from sklearn.model_selection import RandomizedSearchCV\n",
    "import scipy.stats as stats\n",
    "\n",
    "pipe = Pipeline([['scale', StandardScaler()], ['classify', SVC()]])\n",
    "param_grid = { 'classify__C': stats.expon(scale = 10), 'classify__gamma': stats.expon(scale = 0.1)}\n",
    "gs = RandomizedSearchCV(pipe, param_grid)\n",
    "gs.fit(solar.data, solar.target)\n",
    "print(gs.best_params_)\n",
    "print(gs.best_score_)\n",
    "# This will tell me your accuracy\n",
    "accuracy = gs.best_score_"
   ]
  },
  {
   "cell_type": "code",
   "execution_count": 6,
   "metadata": {
    "deletable": false,
    "editable": false
   },
   "outputs": [
    {
     "data": {
      "text/html": [
       "<p><strong><pre style='display: inline;'>q1</pre></strong> passed!</p>"
      ],
      "text/plain": [
       "q1 results: All test cases passed!"
      ]
     },
     "execution_count": 6,
     "metadata": {},
     "output_type": "execute_result"
    }
   ],
   "source": [
    "grader.check(\"q1\")"
   ]
  },
  {
   "cell_type": "markdown",
   "metadata": {},
   "source": [
    "<!-- END QUESTION -->\n",
    "\n",
    "<!-- BEGIN QUESTION -->\n",
    "\n",
    "*Question 2:* Create a pipeline utilizing PCA and your ending classifier and repeat the experiment from question 1. Determine the effects of reducing the dimension of data from 13 to each of 3 to 12. How does accuracy change when reducing dimension? Draw a plot of dimension vs. accuracy. Then -- in the following Markdown box -- tell me what dimension I should be choosing for best score, and why. Show all of your work, including intermediate tests you did."
   ]
  },
  {
   "cell_type": "markdown",
   "metadata": {},
   "source": [
    "dimension=12. according to the graph plot, we can see that the dimension of 12 gives us the greatest accuracy. this means that all 12 of those column datas are important and thus none of them should be removed."
   ]
  },
  {
   "cell_type": "code",
   "execution_count": 7,
   "metadata": {
    "tags": []
   },
   "outputs": [
    {
     "data": {
      "text/plain": [
       "[<matplotlib.lines.Line2D at 0x7f956b18da60>]"
      ]
     },
     "execution_count": 7,
     "metadata": {},
     "output_type": "execute_result"
    },
    {
     "data": {
      "image/png": "[encoded data removed]",
      "text/plain": [
       "<Figure size 432x288 with 1 Axes>"
      ]
     },
     "metadata": {
      "needs_background": "light"
     },
     "output_type": "display_data"
    }
   ],
   "source": [
    "best_scores = list()  # if you fill this with scores for dimensions 3-12, I will plot it for you at the end. \n",
    "from sklearn.decomposition import PCA\n",
    "\n",
    "for i in range(3,13):\n",
    "    pipe2 = Pipeline([['scale', StandardScaler()], ['pca', PCA(n_components=(i))], ['classify', SVC()]])\n",
    "    param_grid2 = { 'classify__C': stats.expon(scale = 10), 'classify__gamma': stats.expon(scale = 0.1)}\n",
    "    gs2 = RandomizedSearchCV(pipe2, param_grid2)\n",
    "    gs2.fit(solar.data, solar.target)\n",
    "    best_scores.append(gs2.best_score_)\n",
    "# if you put your scores into a list best_scores, I will plot them for you.\n",
    "plt.plot(range(3,13), best_scores)"
   ]
  },
  {
   "cell_type": "markdown",
   "metadata": {},
   "source": [
    "<!-- END QUESTION -->\n",
    "\n"
   ]
  },
  {
   "cell_type": "markdown",
   "metadata": {
    "deletable": false,
    "editable": false
   },
   "source": [
    "---\n",
    "\n",
    "To double-check your work, the cell below will rerun all of the autograder tests."
   ]
  },
  {
   "cell_type": "code",
   "execution_count": 8,
   "metadata": {
    "deletable": false,
    "editable": false
   },
   "outputs": [
    {
     "data": {
      "text/plain": [
       "q1 results: All test cases passed!"
      ]
     },
     "execution_count": 8,
     "metadata": {},
     "output_type": "execute_result"
    }
   ],
   "source": [
    "grader.check_all()"
   ]
  },
  {
   "cell_type": "markdown",
   "metadata": {
    "deletable": false,
    "editable": false
   },
   "source": [
    "## Submission\n",
    "\n",
    "Make sure you have run all cells in your notebook in order before running the cell below, so that all images/graphs appear in the output. The cell below will generate a zip file for you to submit. **Please save before exporting!**\n",
    "\n",
    "You are not done until you upload the exported zipfile to GradeScope."
   ]
  },
  {
   "cell_type": "code",
   "execution_count": 9,
   "metadata": {
    "deletable": false,
    "editable": false
   },
   "outputs": [
    {
     "data": {
      "text/html": [
       "\n",
       "            <p>Your submission has been exported. Click <a href=\"hw08_2021_11_17T21_36_09_722533.zip\" download=\"hw08_2021_11_17T21_36_09_722533.zip\" target=\"_blank\">here</a>\n",
       "            to download the zip file.</p>\n",
       "            "
      ],
      "text/plain": [
       "<IPython.core.display.HTML object>"
      ]
     },
     "metadata": {},
     "output_type": "display_data"
    }
   ],
   "source": [
    "# Save your notebook first, then run this cell to export your submission.\n",
    "grader.export(pdf=False)"
   ]
  },
  {
   "cell_type": "markdown",
   "metadata": {},
   "source": [
    " "
   ]
  }
 ],
 "metadata": {
  "kernelspec": {
   "display_name": "Python 3 (ipykernel)",
   "language": "python",
   "name": "python3"
  },
  "language_info": {
   "codemirror_mode": {
    "name": "ipython",
    "version": 3
   },
   "file_extension": ".py",
   "mimetype": "text/x-python",
   "name": "python",
   "nbconvert_exporter": "python",
   "pygments_lexer": "ipython3",
   "version": "3.8.2"
  },
  "otter": {
   "tests": {
    "q1": {
     "name": "q1",
     "points": 0,
     "suites": [
      {
       "cases": [
        {
         "code": ">>> assert accuracy >= 0\n",
         "hidden": false,
         "locked": false
        },
        {
         "code": ">>> assert accuracy <= 1.0\n",
         "hidden": false,
         "locked": false
        }
       ],
       "scored": true,
       "setup": "",
       "teardown": "",
       "type": "doctest"
      }
     ]
    }
   }
  }
 },
 "nbformat": 4,
 "nbformat_minor": 2
}
